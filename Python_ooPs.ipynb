{
  "nbformat": 4,
  "nbformat_minor": 0,
  "metadata": {
    "colab": {
      "provenance": []
    },
    "kernelspec": {
      "name": "python3",
      "display_name": "Python 3"
    },
    "language_info": {
      "name": "python"
    }
  },
  "cells": [
    {
      "cell_type": "markdown",
      "source": [
        "# Python ooPs\n"
      ],
      "metadata": {
        "id": "hQ4BIkgN3s1O"
      }
    },
    {
      "cell_type": "markdown",
      "source": [
        "# Theory\n",
        "\n",
        "1. What is Object-Oriented Programming (OOP)?\n",
        "   - OOP is a programming paradigm based on the concept of \"objects\", which can contain data and code to manipulate that data.\n",
        "\n",
        "2. What is a class in OOP?\n",
        "   - A class is a blueprint for creating objects. It defines attributes and behaviors (methods) that the objects created from it will have.\n",
        "\n",
        "3. What is an object in OOP?\n",
        "  - An object is an instance of a class. It represents a specific implementation of the class.\n",
        "\n",
        "4. What is the difference between abstraction and encapsulation?\n",
        "  - Abstraction: Hides complex implementation and shows only the necessary parts.\n",
        "  - Encapsulation: Wraps data and code together, restricting direct access.\n",
        "\n",
        "5. What are dunder methods in Python?\n",
        "   - \"Dunder\" means double underscore. These are special methods like __ init __, __ str __, __ len __, etc., used to define behavior for built-in operations.\n",
        "\n",
        "6. Explain the concept of inheritance in OOP?\n",
        "  - Inheritance allows a class (child) to inherit properties and methods from another class (parent).\n",
        "  eg:\n",
        "  class Animal:\n",
        "    def speak(self):\n",
        "        print(\"Animal sound\")\n",
        "\n",
        "class Dog(Animal):\n",
        "    pass\n",
        "\n",
        "7. What is polymorphism in OOP\n",
        "  - Polymorphism means having many forms. Methods with the same name behave differently depending on the object.\n",
        "\n",
        "8. How is encapsulation achieved in Python?\n",
        "  - By using access modifiers:\n",
        "  - _protected, __private to restrict access\n",
        "\n",
        "9. What is a constructor in Python?\n",
        "  - __ init__() is the constructor method used to initialize new objects.\n",
        "\n",
        "10. What are class and static methods in Python?\n",
        "  - @classmethod: receives class (cls) as first argument.\n",
        "  - @staticmethod: no access to self or cls.\n",
        "\n",
        "11. What is method overloading in Python?\n",
        "  - Python does not support true overloading. You can use default arguments to mimic it.\n",
        "\n",
        "12. What is method overriding in OOP?\n",
        "  - Occurs when a subclass redefines a method from its parent class.\n",
        "\n",
        "13. What is a property decorator in Python?\n",
        "  - Used to make a method behave like an attribute.\n",
        "\n",
        "14. Why is polymorphism important in OOP?\n",
        "  - It improves code flexibility and reusability, enabling one interface to work with many object types.\n",
        "\n",
        "15. What is an abstract class in Python\n",
        "  - A class that cannot be instantiated and is used as a base. It can contain abstract methods using abc module.\n",
        "\n",
        "16. What are the advantages of OOP?\n",
        "  - Modular and reusable\n",
        "  - Easy to maintain and scale\n",
        "  - Real-world modeling\n",
        "  - Inheritance and polymorphism\n",
        "\n",
        "17. What is multiple inheritance in Python?\n",
        "  - A class inherits from more than one parent class.\n",
        "\n",
        "18. What is the difference between a class variable and an instance variable?\n",
        "  - Class variable: Shared across all objects.\n",
        "  - Instance variable: Unique to each object.\n",
        "\n",
        "19. Explain the purpose of ‘’__ str__’ and ‘__ repr__’ ‘ methods in Python?\n",
        "  - __ str__: Used by print() and str(), human-readable\n",
        "  - __ repr__: Developer-friendly, used in debugging\n",
        "\n",
        "20. What is the significance of the ‘super()’ function in Python?\n",
        "  - Used to call a method from the parent class.\n",
        "\n",
        "21. What is the significance of the __ del__ method in Python?\n",
        "  - Called when an object is about to be destroyed (not commonly used).\n",
        "\n",
        "22. What is the difference between @staticmethod and @classmethod in Python?\n",
        "  - Feature\t@staticmethod\t@classmethod\n",
        "  - First Arg:  -> None\t ->  cls\n",
        "  - Access Class?:  -> \tNo  -> Yes\n",
        "23. How does polymorphism work in Python with inheritance?\n",
        "  - Subclass can override parent methods and still be treated as the parent class.\n",
        "\n",
        "24. What is method chaining in Python OOP?\n",
        "  - Calling multiple methods on the same object in one line.\n",
        "\n",
        "25. What is the purpose of the __ call__ method in Python?\n",
        "  - Allows an object to be called like a function."
      ],
      "metadata": {
        "id": "SYH4hSHi30WF"
      }
    },
    {
      "cell_type": "markdown",
      "source": [
        "# Practical"
      ],
      "metadata": {
        "id": "fXy-2lJq9GCg"
      }
    },
    {
      "cell_type": "code",
      "source": [
        "# Create a parent class Animal with a method speak() that prints a generic message. Create a child class Dog that overrides the speak() method to print \"Bark!\".\n",
        "\n",
        "class animal:\n",
        "  def speak(self):\n",
        "    print(\"animals are speaking\")\n",
        "class Dog(animal):\n",
        "  def speak(self):\n",
        "    print(\"barking\")\n",
        "\n",
        "a = Dog()\n",
        "a.speak()"
      ],
      "metadata": {
        "colab": {
          "base_uri": "https://localhost:8080/"
        },
        "id": "36fEod-Y9I3T",
        "outputId": "f9b13800-bd1b-4de1-d875-858199de6cfb"
      },
      "execution_count": 2,
      "outputs": [
        {
          "output_type": "stream",
          "name": "stdout",
          "text": [
            "barking\n"
          ]
        }
      ]
    },
    {
      "cell_type": "code",
      "source": [
        "# Write a program to create an abstract class Shape with a method area(). Derive classes Circle and Rectangle from it and implement the area() method in both.\n",
        "\n",
        "from abc import ABC, abstractmethod\n",
        "import math\n",
        "\n",
        "class shape(ABC):\n",
        "  @abstractmethod\n",
        "  def area(self):\n",
        "    pass\n",
        "\n",
        "class rectangle(shape):\n",
        "  def __init__(self, length, width):\n",
        "    self.length = length\n",
        "    self.width = width\n",
        "\n",
        "  def area(self):\n",
        "    return self.length*self.width\n",
        "\n",
        "class circle(shape):\n",
        "  def __init__(self, radius):\n",
        "    self.radius = radius\n",
        "\n",
        "  def area(self):\n",
        "    return math.pi*self.radius**2\n",
        "\n",
        "a = rectangle(5, 4)\n",
        "b = circle(3)\n",
        "\n",
        "print(f\"area of rectangle: {a.area()}\")\n",
        "print(f\"area of rectangle: {b.area()}\")"
      ],
      "metadata": {
        "colab": {
          "base_uri": "https://localhost:8080/"
        },
        "id": "iWC7IoHhAUjr",
        "outputId": "60b1abeb-d1a1-4591-ca6f-bb3cda89e236"
      },
      "execution_count": 7,
      "outputs": [
        {
          "output_type": "stream",
          "name": "stdout",
          "text": [
            "area of rectangle: 20\n",
            "area of rectangle: 28.274333882308138\n"
          ]
        }
      ]
    },
    {
      "cell_type": "code",
      "source": [
        "# Implement a multi-level inheritance scenario where a class Vehicle has an attribute type. Derive a class Car and further derive a class ElectricCar that adds a battery attribute.\n",
        "\n",
        "class vehicle():\n",
        "  def type(self):\n",
        "    print(\"type of vehicles like electric hybrid etc\")\n",
        "class Car(vehicle):\n",
        "  def diesel(self):\n",
        "    print(\"This is usual vehicle\")\n",
        "class ElectricCar(Car):\n",
        "  def battery(self):\n",
        "    print(\"This is an E-Car using battery\")\n",
        "\n",
        "e_car = ElectricCar()\n",
        "\n",
        "# Call methods from all levels of inheritance\n",
        "e_car.type()         # from Vehicle\n",
        "e_car.diesel()    # from Car\n",
        "e_car.battery()\n"
      ],
      "metadata": {
        "colab": {
          "base_uri": "https://localhost:8080/"
        },
        "id": "uuBd4_wJDkpK",
        "outputId": "b640595e-a3c4-46ce-d25d-d06675400468"
      },
      "execution_count": 12,
      "outputs": [
        {
          "output_type": "stream",
          "name": "stdout",
          "text": [
            "type of vehicles like electric hybrid etc\n",
            "This is usual vehicle\n",
            "This is an E-Car using battery\n"
          ]
        }
      ]
    },
    {
      "cell_type": "code",
      "source": [
        "#  Demonstrate polymorphism by creating a base class Bird with a method fly(). Create two derived classes Sparrow and Penguin that override the fly() method.\n",
        "\n",
        "class bird():\n",
        "  def fly(self):\n",
        "    print(\"birds can fly\")\n",
        "class Sparrow(bird):\n",
        "  def fly(self):\n",
        "    print(\"Sparrow can fly\")\n",
        "class penguin(bird):\n",
        "  def fly(self):\n",
        "    print(\"Penguin cannot fly\")\n",
        "\n",
        "a = penguin()\n",
        "b = Sparrow()\n",
        "a.fly()\n",
        "b.fly()"
      ],
      "metadata": {
        "colab": {
          "base_uri": "https://localhost:8080/"
        },
        "id": "jLbGzq7wGHBV",
        "outputId": "48dca98f-b2f6-4267-af4f-ad450dae6ec4"
      },
      "execution_count": 15,
      "outputs": [
        {
          "output_type": "stream",
          "name": "stdout",
          "text": [
            "Penguin cannot fly\n",
            "Sparrow can fly\n"
          ]
        }
      ]
    },
    {
      "cell_type": "code",
      "source": [
        "# Write a program to demonstrate encapsulation by creating a class BankAccount with private attributes balance and methods to deposit, withdraw, and check balance.\n",
        "\n",
        "class bankaccount():\n",
        "  def __init__ (self, initialBalance = 0):\n",
        "    self.__balance = initialBalance\n",
        "  def deposit(self, amount):\n",
        "    if amount > 0:\n",
        "      self.__balance += amount\n",
        "      print(f\"new amount: {amount}\")\n",
        "    else:\n",
        "      print(\"Invalid Deposit\")\n",
        "  def withdraw(self, amount):\n",
        "    if 0 < amount <= self.__balance:\n",
        "      self.__balance -= amount\n",
        "      print(f\"Receive your amount {amount}\")\n",
        "    else:\n",
        "      print(\"Insufficient balance or invalid amount\")\n",
        "\n",
        "  def check_balance(self):\n",
        "    print(f\"Available Balance: ₹{self.__balance}\")\n",
        "\n",
        "account = bankaccount(1000)\n",
        "account.deposit(500)\n",
        "account.withdraw(300)\n",
        "account.check_balance()"
      ],
      "metadata": {
        "colab": {
          "base_uri": "https://localhost:8080/"
        },
        "id": "Dhey7zvxJ44u",
        "outputId": "557358d9-a4f9-4c36-c317-4fac72e37598"
      },
      "execution_count": 21,
      "outputs": [
        {
          "output_type": "stream",
          "name": "stdout",
          "text": [
            "new amount: 500\n",
            "Receive your amount 300\n",
            "Available Balance: ₹1200\n"
          ]
        }
      ]
    },
    {
      "cell_type": "code",
      "source": [
        "#Demonstrate runtime polymorphism using a method play() in a base class Instrument. Derive classes Guitar and Piano that implement their own version of play().\n",
        "\n",
        "class Instrument():\n",
        "  def play(self):\n",
        "    print(\"saaa reee gaa maaa\")\n",
        "class Guitar(Instrument):\n",
        "  def play(self):\n",
        "    print(\"playing guitar\")\n",
        "class Piano(Instrument):\n",
        "  def play(self):\n",
        "    print(\"playing piano\")\n",
        "\n",
        "a = Piano()\n",
        "b = Guitar()\n",
        "\n",
        "for i in [a,b]:\n",
        "  i.play()\n"
      ],
      "metadata": {
        "colab": {
          "base_uri": "https://localhost:8080/"
        },
        "id": "JI6Kuq6iOBEc",
        "outputId": "c5aa12a0-d93e-40e0-aaa5-bba32d42307d"
      },
      "execution_count": 5,
      "outputs": [
        {
          "output_type": "stream",
          "name": "stdout",
          "text": [
            "playing piano\n",
            "playing guitar\n"
          ]
        }
      ]
    },
    {
      "cell_type": "code",
      "source": [
        "# Create a class MathOperations with a class method add_numbers() to add two numbers and a static method subtract_numbers() to subtract two numbers.\n",
        "\n",
        "class MathOperation():\n",
        "  @classmethod\n",
        "  def add_numbers(cls, a, b):\n",
        "    print(a + b)\n",
        "\n",
        "  @staticmethod\n",
        "  def subtract_numbers(a, b):\n",
        "    print(a - b)\n",
        "\n",
        "a = MathOperation()\n",
        "\n",
        "a.add_numbers(4,5)\n",
        "a.subtract_numbers(5,3)\n",
        "\n"
      ],
      "metadata": {
        "colab": {
          "base_uri": "https://localhost:8080/"
        },
        "id": "CUHYsuSEp28J",
        "outputId": "b83e1cba-ab64-43e6-8d05-db16daafbb2e"
      },
      "execution_count": 10,
      "outputs": [
        {
          "output_type": "stream",
          "name": "stdout",
          "text": [
            "9\n",
            "2\n"
          ]
        }
      ]
    },
    {
      "cell_type": "code",
      "source": [
        "#  Implement a class Person with a class method to count the total number of persons created.\n",
        "\n",
        "class Person():\n",
        "  count = 0\n",
        "  def __init__(self, name):\n",
        "    self.name = name\n",
        "    Person.count += 1\n",
        "  @classmethod\n",
        "  def total_persons(cls):\n",
        "    print(f\"Total persons created: {cls.count}\")\n",
        "\n",
        "\n",
        "p1 = Person(\"Alice\")\n",
        "p2 = Person(\"Bob\")\n",
        "p3 = Person(\"Charlie\")\n",
        "\n",
        "\n",
        "Person.total_persons()"
      ],
      "metadata": {
        "colab": {
          "base_uri": "https://localhost:8080/"
        },
        "id": "0kye4BHesmUK",
        "outputId": "e64a8a80-f450-4124-fa5e-5e9f5d37712d"
      },
      "execution_count": 13,
      "outputs": [
        {
          "output_type": "stream",
          "name": "stdout",
          "text": [
            "Total persons created: 3\n"
          ]
        }
      ]
    },
    {
      "cell_type": "code",
      "source": [
        "# Write a class Fraction with attributes numerator and denominator. Override the str method to display the fraction as \"numerator/denominator\".\n",
        "\n",
        "class fractions():\n",
        "  def __init__(self, numerator, denominator):\n",
        "    self.numerator = numerator\n",
        "    self.denominator = denominator\n",
        "\n",
        "  def __str__(self):\n",
        "    return f\"{self.numerator}/{self.denominator}\"\n",
        "\n",
        "a = fractions(3,4)\n",
        "b = fractions(6,8)\n",
        "\n",
        "print(a)\n",
        "print(b)"
      ],
      "metadata": {
        "colab": {
          "base_uri": "https://localhost:8080/"
        },
        "id": "kJhmC95Cvlov",
        "outputId": "20f17488-6715-4a96-985e-2f977cddecb4"
      },
      "execution_count": 16,
      "outputs": [
        {
          "output_type": "stream",
          "name": "stdout",
          "text": [
            "3/4\n",
            "6/8\n"
          ]
        }
      ]
    },
    {
      "cell_type": "code",
      "source": [
        "# Demonstrate operator overloading by creating a class Vector and overriding the add method to add two vectors.\n",
        "\n",
        "class Vector:\n",
        "    def __init__(self, x, y):\n",
        "        self.x = x\n",
        "        self.y = y\n",
        "\n",
        "    def __add__(self, other):\n",
        "        return Vector(self.x + other.x, self.y + other.y)\n",
        "\n",
        "    def __str__(self):\n",
        "        return f\"Vector({self.x}, {self.y})\"\n",
        "\n",
        "\n",
        "v1 = Vector(2, 3)\n",
        "v2 = Vector(4, 5)\n",
        "\n",
        "v3 = v1 + v2\n",
        "print(v3)"
      ],
      "metadata": {
        "colab": {
          "base_uri": "https://localhost:8080/"
        },
        "id": "r8ZEPJ4Kxw5g",
        "outputId": "1ec4fea2-568e-4e89-dacd-0d3593f2c0f6"
      },
      "execution_count": 17,
      "outputs": [
        {
          "output_type": "stream",
          "name": "stdout",
          "text": [
            "Vector(6, 8)\n"
          ]
        }
      ]
    },
    {
      "cell_type": "code",
      "source": [
        "# Create a class Person with attributes name and age. Add a method greet() that prints \"Hello, my name is {name} and I am {age} years old.\"\n",
        "\n",
        "class Person():\n",
        "  def __init__(self, name, age):\n",
        "    self.name = name\n",
        "    self.age = age\n",
        "  def greet(self):\n",
        "    return f\"Hello, my name is {self.name} and I am {self.age} years old.\"\n",
        "\n",
        "a = Person(\"Sumit\", 25)\n",
        "\n",
        "\n",
        "print(a.greet())"
      ],
      "metadata": {
        "colab": {
          "base_uri": "https://localhost:8080/"
        },
        "id": "TEbfuEMcyhew",
        "outputId": "08f1c945-257e-4542-e874-a3540cc34184"
      },
      "execution_count": 22,
      "outputs": [
        {
          "output_type": "stream",
          "name": "stdout",
          "text": [
            "Hello, my name is Sumit and I am 25 years old.\n"
          ]
        }
      ]
    },
    {
      "cell_type": "code",
      "source": [
        "# Implement a class Student with attributes name and grades. Create a method average_grade() to compute the average of the grades.\n",
        "\n",
        "class Student:\n",
        "    def __init__(self, name, grades):\n",
        "        self.name = name\n",
        "        self.grades = grades\n",
        "\n",
        "    def average_grade(self):\n",
        "        if not self.grades:\n",
        "            return 0\n",
        "        return sum(self.grades) / len(self.grades)\n",
        "\n",
        "\n",
        "s1 = Student(\"John\", [85, 90, 78, 92])\n",
        "print(f\"{s1.name}'s average grade is: {s1.average_grade():.2f}\")"
      ],
      "metadata": {
        "colab": {
          "base_uri": "https://localhost:8080/"
        },
        "id": "LvWr6liO0Tx7",
        "outputId": "8af5346f-6683-45ff-8558-d877bffd0706"
      },
      "execution_count": 23,
      "outputs": [
        {
          "output_type": "stream",
          "name": "stdout",
          "text": [
            "John's average grade is: 86.25\n"
          ]
        }
      ]
    },
    {
      "cell_type": "code",
      "source": [
        "#  Create a class Rectangle with methods set_dimensions() to set the dimensions and area() to calculate the area.\n",
        "\n",
        "class Rectangle:\n",
        "    def __init__(self):\n",
        "        self.length = 0\n",
        "        self.width = 0\n",
        "\n",
        "    def set_dimensions(self, length, width):\n",
        "        self.length = length\n",
        "        self.width = width\n",
        "\n",
        "    def area(self):\n",
        "        return self.length * self.width\n",
        "\n",
        "r1 = Rectangle()\n",
        "r1.set_dimensions(5, 4)\n",
        "print(f\"Area of the rectangle is: {r1.area()}\")"
      ],
      "metadata": {
        "colab": {
          "base_uri": "https://localhost:8080/"
        },
        "id": "atMxTCZ81SVb",
        "outputId": "7e91612d-2c75-482a-bb43-6e0950de84e1"
      },
      "execution_count": 24,
      "outputs": [
        {
          "output_type": "stream",
          "name": "stdout",
          "text": [
            "Area of the rectangle is: 20\n"
          ]
        }
      ]
    },
    {
      "cell_type": "code",
      "source": [
        "# Create a class Employee with a method calculate_salary() that computes the salary based on hours worked and hourly rate. Create a derived class Manager that adds a bonus to the salary.\n",
        "\n",
        "class Employee:\n",
        "    def __init__(self, name, hours_worked, hourly_rate):\n",
        "        self.name = name\n",
        "        self.hours_worked = hours_worked\n",
        "        self.hourly_rate = hourly_rate\n",
        "\n",
        "    def calculate_salary(self):\n",
        "        return self.hours_worked * self.hourly_rate\n",
        "\n",
        "\n",
        "class Manager(Employee):\n",
        "    def __init__(self, name, hours_worked, hourly_rate, bonus):\n",
        "        super().__init__(name, hours_worked, hourly_rate)\n",
        "        self.bonus = bonus\n",
        "\n",
        "    def calculate_salary(self):\n",
        "        base_salary = super().calculate_salary()\n",
        "        return base_salary + self.bonus\n",
        "\n",
        "\n",
        "emp = Employee(\"Alice\", 40, 20)\n",
        "print(f\"{emp.name}'s Salary: ₹{emp.calculate_salary()}\")\n",
        "\n",
        "mgr = Manager(\"Bob\", 45, 30, 5000)\n",
        "print(f\"{mgr.name}'s Salary (with bonus): ₹{mgr.calculate_salary()}\")"
      ],
      "metadata": {
        "colab": {
          "base_uri": "https://localhost:8080/"
        },
        "id": "HFdaQwOI1lI3",
        "outputId": "c1b9b155-ee13-4351-c7ef-34a46db33b27"
      },
      "execution_count": 25,
      "outputs": [
        {
          "output_type": "stream",
          "name": "stdout",
          "text": [
            "Alice's Salary: ₹800\n",
            "Bob's Salary (with bonus): ₹6350\n"
          ]
        }
      ]
    },
    {
      "cell_type": "code",
      "source": [
        "# Create a class Product with attributes name, price, and quantity. Implement a method total_price() that calculates the total price of the product.\n",
        "\n",
        "class Product:\n",
        "    def __init__(self, name, price, quantity):\n",
        "        self.name = name\n",
        "        self.price = price\n",
        "        self.quantity = quantity\n",
        "\n",
        "    def total_price(self):\n",
        "        return self.price * self.quantity\n",
        "\n",
        "\n",
        "p1 = Product(\"Notebook\", 50, 3)\n",
        "print(f\"Product: {p1.name}\")\n",
        "print(f\"Total Price: ₹{p1.total_price()}\")"
      ],
      "metadata": {
        "colab": {
          "base_uri": "https://localhost:8080/"
        },
        "id": "yJCIa5-L19eM",
        "outputId": "ddb66375-857d-41dd-b5c2-7b754de4694c"
      },
      "execution_count": 26,
      "outputs": [
        {
          "output_type": "stream",
          "name": "stdout",
          "text": [
            "Product: Notebook\n",
            "Total Price: ₹150\n"
          ]
        }
      ]
    },
    {
      "cell_type": "code",
      "source": [
        "# Create a class Animal with an abstract method sound(). Create two derived classes Cow and Sheep that implement the sound() method.\n",
        "\n",
        "from abc import ABC, abstractmethod\n",
        "\n",
        "class Animal(ABC):\n",
        "    @abstractmethod\n",
        "    def sound(self):\n",
        "        pass\n",
        "\n",
        "class Cow(Animal):\n",
        "    def sound(self):\n",
        "        return \"Moo\"\n",
        "\n",
        "class Sheep(Animal):\n",
        "    def sound(self):\n",
        "        return \"Baa\"\n",
        "\n",
        "c = Cow()\n",
        "s = Sheep()\n",
        "\n",
        "print(\"Cow sound:\", c.sound())\n",
        "print(\"Sheep sound:\", s.sound())"
      ],
      "metadata": {
        "colab": {
          "base_uri": "https://localhost:8080/"
        },
        "id": "GJrhNhFA2MGN",
        "outputId": "65065c70-e2a8-4009-cbf8-82526055cabb"
      },
      "execution_count": 27,
      "outputs": [
        {
          "output_type": "stream",
          "name": "stdout",
          "text": [
            "Cow sound: Moo\n",
            "Sheep sound: Baa\n"
          ]
        }
      ]
    },
    {
      "cell_type": "code",
      "source": [
        "# Create a class Book with attributes title, author, and year_published. Add a method get_book_info() that returns a formatted string with the book's details.\n",
        "\n",
        "class Book:\n",
        "    def __init__(self, title, author, year_published):\n",
        "        self.title = title\n",
        "        self.author = author\n",
        "        self.year_published = year_published\n",
        "\n",
        "    def get_book_info(self):\n",
        "        return f\"'{self.title}' by {self.author}, published in {self.year_published}.\"\n",
        "\n",
        "book1 = Book(\"To Kill a Mockingbird\", \"Harper Lee\", 1960)\n",
        "print(book1.get_book_info())"
      ],
      "metadata": {
        "colab": {
          "base_uri": "https://localhost:8080/"
        },
        "id": "iIEaE6jm2zri",
        "outputId": "6cd32239-7888-4d95-9b6f-3933d13838ae"
      },
      "execution_count": 28,
      "outputs": [
        {
          "output_type": "stream",
          "name": "stdout",
          "text": [
            "'To Kill a Mockingbird' by Harper Lee, published in 1960.\n"
          ]
        }
      ]
    },
    {
      "cell_type": "code",
      "source": [
        "# Create a class House with attributes address and price. Create a derived class Mansion that adds an attribute number_of_rooms.\n",
        "\n",
        "class House:\n",
        "    def __init__(self, address, price):\n",
        "        self.address = address\n",
        "        self.price = price\n",
        "\n",
        "    def get_info(self):\n",
        "        return f\"Address: {self.address}, Price: ₹{self.price}\"\n",
        "\n",
        "class Mansion(House):\n",
        "    def __init__(self, address, price, number_of_rooms):\n",
        "        super().__init__(address, price)\n",
        "        self.number_of_rooms = number_of_rooms\n",
        "\n",
        "    def get_info(self):\n",
        "        base_info = super().get_info()\n",
        "        return f\"{base_info}, Rooms: {self.number_of_rooms}\"\n",
        "\n",
        "m1 = Mansion(\"123 Dream Street\", 50000000, 10)\n",
        "print(m1.get_info())"
      ],
      "metadata": {
        "colab": {
          "base_uri": "https://localhost:8080/"
        },
        "id": "Y4eDcsuW3BnH",
        "outputId": "32c1b37d-2607-4e32-f542-d9e0d131fa14"
      },
      "execution_count": 29,
      "outputs": [
        {
          "output_type": "stream",
          "name": "stdout",
          "text": [
            "Address: 123 Dream Street, Price: ₹50000000, Rooms: 10\n"
          ]
        }
      ]
    },
    {
      "cell_type": "code",
      "source": [],
      "metadata": {
        "id": "szM3polM3Wwi"
      },
      "execution_count": null,
      "outputs": []
    }
  ]
}